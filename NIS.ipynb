{
 "cells": [
  {
   "cell_type": "code",
   "execution_count": 4,
   "metadata": {},
   "outputs": [
    {
     "name": "stdout",
     "output_type": "stream",
     "text": [
      "Введите 6 элементов Кеплера:\n",
      "1) Большая полуось (км): 7000\n",
      "2) Эксцентриситет: 0\n",
      "3) Наклон (в градусах): 0\n",
      "4) Долгота восходящего угла (в градусах): 0\n",
      "5) Аргумент перицентра (в градусах): 0\n",
      "6) Истинная аномалия (в градусах): "
     ]
    },
    {
     "data": {
      "text/plain": [
       "[<matplotlib.lines.Line2D at 0xa12ef50>]"
      ]
     },
     "execution_count": 4,
     "metadata": {},
     "output_type": "execute_result"
    },
    {
     "data": {
      "image/png": "[encoded data removed]",
      "text/plain": [
       "<Figure size 432x288 with 1 Axes>"
      ]
     },
     "metadata": {
      "needs_background": "light"
     },
     "output_type": "display_data"
    }
   ],
   "source": [
    "import math\n",
    "import numpy as np\n",
    "import matplotlib.pyplot as plt\n",
    "from scipy.optimize import fsolve\n",
    "\n",
    "# создание многочленов для нахождения точки\n",
    "def point(z):\n",
    "    x = z[0]\n",
    "    y = z[1]\n",
    "    m = np.zeros(2)\n",
    "    m[0] =  (math.cos(M)*((x**2+y**2)**(1/2)))-x\n",
    "    m[1] = (y**2)/(b**2) - 1 + ((x+f)**2)/(a**2)\n",
    "    return m\n",
    "\n",
    "# создает марицу поворота относительно вектора\n",
    "def getPovMatrix(vec, fi): \n",
    "    x = vec[0]\n",
    "    y = vec[1]\n",
    "    z = vec[2]\n",
    "    m = np.zeros((3,3))\n",
    "    m[0][0] = math.cos(fi) + ((1-math.cos(fi))*(x**2))\n",
    "    m[0][1] = ((1-math.cos(fi))*x*y)-((math.sin(fi))*z)\n",
    "    m[0][2] = ((1-math.cos(fi))*x*z) + ((math.sin(fi))*y)\n",
    "    m[1][0] = ((1-math.cos(fi))*y*x) + ((math.sin(fi))*z)\n",
    "    m[1][1] = (math.cos(fi)) + ((1-math.cos(fi))*(y**2))\n",
    "    m[1][2] = ((1 - math.cos(fi))*y*z) - ((math.sin(fi))*x)\n",
    "    m[2][0] = ((1 - math.cos(fi))*z*x) - ((math.sin(fi))*y)\n",
    "    m[2][1] = ((1-math.cos(fi))*z*y) + ((math.sin(fi))*x)\n",
    "    m[2][2] = (math.cos(fi)) + ((1-math.cos(fi))*(z**2))\n",
    "    return m\n",
    "\n",
    "#создает вектор из координат\n",
    "def createVec(x,y,z):\n",
    "    v = np.zeros((3,1))\n",
    "    v[0][0] = x\n",
    "    v[1][0] = y\n",
    "    v[2][0] = z\n",
    "    return v\n",
    "\n",
    "\n",
    "# body\n",
    "# ввод данных\n",
    "print (\"Введите 6 элементов Кеплера:\")\n",
    "while True:\n",
    "    print (\"1) Большая полуось (км): \", end = \"\")\n",
    "    a = float(input())\n",
    "    if a>0:\n",
    "        break\n",
    "while True:\n",
    "    print (\"2) Эксцентриситет: \", end = \"\")\n",
    "    e = float(input())\n",
    "    if e>=0 and e<1:\n",
    "        break\n",
    "print (\"3) Наклон (в градусах): \", end = \"\")\n",
    "i = (float(input())%360)/180*math.pi\n",
    "print (\"4) Долгота восходящего угла (в градусах): \", end = \"\")\n",
    "d = ((float(input())%360)/180*math.pi)\n",
    "print (\"5) Аргумент перицентра (в градусах): \", end = \"\")\n",
    "w = (float(input())%360)/180*math.pi\n",
    "print (\"6) Истинная аномалия (в градусах): \", end = \"\")\n",
    "# M = (float(input())%360)/180*math.pi\n",
    "Mlist = np.linspace( 0, 2*math.pi, 100)\n",
    "\n",
    "\n",
    "# вычисление позиции в двумерном пространстве\n",
    "f = float(a*e) # расстояние от центра эллипса до точки фокуса\n",
    "b = math.sqrt(a*a - f*f) # величина малой полуоси\n",
    "xlist = []\n",
    "ylist = []\n",
    "for M in Mlist:\n",
    "    x,y = fsolve(point, [2.0,3.0])\n",
    "    if M > math.pi:\n",
    "        y = (-1)* y\n",
    "    z = 0 \n",
    "    vec = createVec(x,y,z)\n",
    "\n",
    "    #создание вектора нормали к плоскости\n",
    "    x = 0\n",
    "    y = 0\n",
    "    z = 1\n",
    "    normalVec = createVec(x,y,z)\n",
    "\n",
    "    #создание вектора на восходящий узел\n",
    "    x = math.cos(d)\n",
    "    y = math.sin(d)\n",
    "    z = 0\n",
    "    vUzel = createVec(x,y,z)\n",
    "\n",
    "    # наклон плокости на (i)\n",
    "    m = getPovMatrix(vUzel, i)\n",
    "    vec = m.dot(vec)\n",
    "    normalVec = m.dot(normalVec)\n",
    "\n",
    "    # поворот на аргумент перицентра\n",
    "    m = getPovMatrix(normalVec, w)\n",
    "    vec = m.dot(vec)\n",
    "    xlist.append(vec[0])\n",
    "    ylist.append(vec[1])\n",
    "plt.plot(xlist,ylist,marker = \"x\")\n",
    "\n",
    "#вывод\n",
    "#print (\"Спутник находится в точке: ({},{},{})\".format(vec[0],vec[1],vec[2]))"
   ]
  },
  {
   "cell_type": "code",
   "execution_count": null,
   "metadata": {},
   "outputs": [],
   "source": []
  }
 ],
 "metadata": {
  "kernelspec": {
   "display_name": "Python 3",
   "language": "python",
   "name": "python3"
  },
  "language_info": {
   "codemirror_mode": {
    "name": "ipython",
    "version": 3
   },
   "file_extension": ".py",
   "mimetype": "text/x-python",
   "name": "python",
   "nbconvert_exporter": "python",
   "pygments_lexer": "ipython3",
   "version": "3.7.2"
  }
 },
 "nbformat": 4,
 "nbformat_minor": 2
}
